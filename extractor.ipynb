{
 "cells": [
  {
   "cell_type": "code",
   "execution_count": 0,
   "metadata": {
    "application/vnd.databricks.v1+cell": {
     "cellMetadata": {
      "byteLimit": 2048000,
      "rowLimit": 10000
     },
     "inputWidgets": {},
     "nuid": "f497bd0f-9161-40be-9936-a0f58c766e01",
     "showTitle": false,
     "title": ""
    }
   },
   "outputs": [],
   "source": [
    "%run \"./reader_facatory\""
   ]
  },
  {
   "cell_type": "code",
   "execution_count": 0,
   "metadata": {
    "application/vnd.databricks.v1+cell": {
     "cellMetadata": {
      "byteLimit": 2048000,
      "rowLimit": 10000
     },
     "inputWidgets": {},
     "nuid": "85500b12-4005-44f8-8eb3-0336b77c658c",
     "showTitle": false,
     "title": ""
    }
   },
   "outputs": [],
   "source": [
    "class Extractor:\n",
    "    \"\"\"\n",
    "    Abstract class \n",
    "    \"\"\"\n",
    "\n",
    "    def __init__(self):\n",
    "        pass\n",
    "    def extract(self):\n",
    "        pass\n",
    "\n",
    "class AirpodsAfterIphoneExtractor(Extractor):\n",
    "\n",
    "    def extract(self):\n",
    "        \"\"\"\n",
    "        Implement the steps for extracting or reading the data\n",
    "        \"\"\"\n",
    "        transcatioInputDF = get_data_source(\n",
    "            data_type = \"csv\",\n",
    "            file_path=\"dbfs:/FileStore/tables/Transaction_Updated.csv\"\n",
    "        ).get_data_frame()\n",
    "\n",
    "        transcatioInputDF.orderBy(\"customer_id\",\"transaction_date\").show()\n",
    "\n",
    "        customerInputDF = get_data_source(\n",
    "            data_type = \"delta\",\n",
    "            file_path=\"default.customer_delta_table_persist\"\n",
    "        ).get_data_frame()\n",
    "\n",
    "        \n",
    "        \n",
    "        inputDFs = {\n",
    "            \"transcatioInputDF\": transcatioInputDF,\n",
    "            \"customerInputDF\": customerInputDF\n",
    "        }\n",
    "\n",
    "        return inputDFs"
   ]
  }
 ],
 "metadata": {
  "application/vnd.databricks.v1+notebook": {
   "dashboards": [],
   "environmentMetadata": null,
   "language": "python",
   "notebookMetadata": {
    "pythonIndentUnit": 4
   },
   "notebookName": "extractor",
   "widgets": {}
  }
 },
 "nbformat": 4,
 "nbformat_minor": 0
}
